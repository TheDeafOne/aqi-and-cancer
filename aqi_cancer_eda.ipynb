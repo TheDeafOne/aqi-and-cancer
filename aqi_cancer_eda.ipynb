{
 "cells": [
  {
   "cell_type": "code",
   "execution_count": 1,
   "metadata": {},
   "outputs": [],
   "source": [
    "import pandas as pd\n",
    "import numpy as np\n",
    "import plotly.express as px"
   ]
  },
  {
   "cell_type": "code",
   "execution_count": 6,
   "metadata": {},
   "outputs": [],
   "source": [
    "DATA_DIR = './data/'\n",
    "CANCER_DATA = 'cancer_ind_rate_2016_2020.csv'\n",
    "AQI_DATA = lambda year: f'annual_aqi_by_county_{year}.csv'"
   ]
  },
  {
   "cell_type": "code",
   "execution_count": 7,
   "metadata": {},
   "outputs": [],
   "source": [
    "def get_cancer_data():\n",
    "    df = pd.read_csv(DATA_DIR + CANCER_DATA)\n",
    "    return df"
   ]
  },
  {
   "cell_type": "code",
   "execution_count": 8,
   "metadata": {},
   "outputs": [
    {
     "name": "stdout",
     "output_type": "stream",
     "text": [
      "     State   County  Year  Days with AQI  Good Days  Moderate Days  \\\n",
      "0  Alabama  Baldwin  2016            279        247             32   \n",
      "1  Alabama     Clay  2016            116        109              7   \n",
      "2  Alabama  Colbert  2016            282        258             23   \n",
      "3  Alabama   DeKalb  2016            348        304             43   \n",
      "4  Alabama   Elmore  2016            117        107             10   \n",
      "\n",
      "   Unhealthy for Sensitive Groups Days  Unhealthy Days  Very Unhealthy Days  \\\n",
      "0                                    0               0                    0   \n",
      "1                                    0               0                    0   \n",
      "2                                    1               0                    0   \n",
      "3                                    1               0                    0   \n",
      "4                                    0               0                    0   \n",
      "\n",
      "   Hazardous Days  Max AQI  90th Percentile AQI  Median AQI  Days CO  \\\n",
      "0               0       87                   51          37        0   \n",
      "1               0       56                   45          30        0   \n",
      "2               0      115                   50          38        0   \n",
      "3               0      119                   54          40        0   \n",
      "4               0       77                   48          40        0   \n",
      "\n",
      "   Days NO2  Days Ozone  Days PM2.5  Days PM10  \n",
      "0         0         221          58          0  \n",
      "1         0           0         116          0  \n",
      "2         0         219          63          0  \n",
      "3         0         321          27          0  \n",
      "4         0         117           0          0  \n",
      "Index(['State', 'County', 'Year', 'Days with AQI', 'Good Days',\n",
      "       'Moderate Days', 'Unhealthy for Sensitive Groups Days',\n",
      "       'Unhealthy Days', 'Very Unhealthy Days', 'Hazardous Days', 'Max AQI',\n",
      "       '90th Percentile AQI', 'Median AQI', 'Days CO', 'Days NO2',\n",
      "       'Days Ozone', 'Days PM2.5', 'Days PM10'],\n",
      "      dtype='object')\n"
     ]
    }
   ],
   "source": [
    "# compile aqi data into 5 year avaerage\n",
    "def compile_aqi_data():\n",
    "    annual_aqi_2016_2020 = pd.DataFrame()\n",
    "    for year in range(2016, 2021):\n",
    "        aqi = pd.read_csv(DATA_DIR + AQI_DATA(year))\n",
    "        print(aqi.head())\n",
    "        print(aqi.columns)\n",
    "        break\n",
    "\n",
    "compile_aqi_data()"
   ]
  },
  {
   "cell_type": "code",
   "execution_count": null,
   "metadata": {},
   "outputs": [],
   "source": []
  }
 ],
 "metadata": {
  "kernelspec": {
   "display_name": "Python 3",
   "language": "python",
   "name": "python3"
  },
  "language_info": {
   "codemirror_mode": {
    "name": "ipython",
    "version": 3
   },
   "file_extension": ".py",
   "mimetype": "text/x-python",
   "name": "python",
   "nbconvert_exporter": "python",
   "pygments_lexer": "ipython3",
   "version": "3.11.0"
  }
 },
 "nbformat": 4,
 "nbformat_minor": 2
}
